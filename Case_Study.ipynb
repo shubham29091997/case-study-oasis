{
  "nbformat": 4,
  "nbformat_minor": 0,
  "metadata": {
    "colab": {
      "name": "Case_Study.ipynb",
      "provenance": [],
      "authorship_tag": "ABX9TyNKjnyiY5osuV5fgqp10oWO"
    },
    "kernelspec": {
      "name": "python3",
      "display_name": "Python 3"
    }
  },
  "cells": [
    {
      "cell_type": "code",
      "metadata": {
        "id": "q1tNIrMjDpM_",
        "colab_type": "code",
        "colab": {}
      },
      "source": [
        "import pandas as pd\n",
        "import numpy as np\n",
        "import matplotlib.pyplot as plt\n",
        "import seaborn as sns"
      ],
      "execution_count": 51,
      "outputs": []
    },
    {
      "cell_type": "code",
      "metadata": {
        "id": "0KW9zk9xKnlU",
        "colab_type": "code",
        "colab": {
          "base_uri": "https://localhost:8080/",
          "height": 419
        },
        "outputId": "aead16c6-cfaf-49a9-ef5f-29a1534daae3"
      },
      "source": [
        "df = pd.read_csv('/content/dataset_X.csv')\n",
        "df"
      ],
      "execution_count": null,
      "outputs": [
        {
          "output_type": "execute_result",
          "data": {
            "text/html": [
              "<div>\n",
              "<style scoped>\n",
              "    .dataframe tbody tr th:only-of-type {\n",
              "        vertical-align: middle;\n",
              "    }\n",
              "\n",
              "    .dataframe tbody tr th {\n",
              "        vertical-align: top;\n",
              "    }\n",
              "\n",
              "    .dataframe thead th {\n",
              "        text-align: right;\n",
              "    }\n",
              "</style>\n",
              "<table border=\"1\" class=\"dataframe\">\n",
              "  <thead>\n",
              "    <tr style=\"text-align: right;\">\n",
              "      <th></th>\n",
              "      <th>Call_ID</th>\n",
              "      <th>Sale</th>\n",
              "      <th>Agent_ID</th>\n",
              "      <th>Age</th>\n",
              "      <th>Product_ID</th>\n",
              "      <th>Timezone</th>\n",
              "      <th>Phone_code</th>\n",
              "      <th>First_Name</th>\n",
              "      <th>Last_Name</th>\n",
              "      <th>Area_Code</th>\n",
              "      <th>Gender</th>\n",
              "      <th>Call_Count</th>\n",
              "    </tr>\n",
              "  </thead>\n",
              "  <tbody>\n",
              "    <tr>\n",
              "      <th>0</th>\n",
              "      <td>9545434</td>\n",
              "      <td>False</td>\n",
              "      <td>5265</td>\n",
              "      <td>42</td>\n",
              "      <td>147</td>\n",
              "      <td>2</td>\n",
              "      <td>37.0</td>\n",
              "      <td>Jk</td>\n",
              "      <td>Jk</td>\n",
              "      <td>2302</td>\n",
              "      <td>Male</td>\n",
              "      <td>1</td>\n",
              "    </tr>\n",
              "    <tr>\n",
              "      <th>1</th>\n",
              "      <td>9211206</td>\n",
              "      <td>False</td>\n",
              "      <td>5226</td>\n",
              "      <td>74</td>\n",
              "      <td>146</td>\n",
              "      <td>2</td>\n",
              "      <td>37.0</td>\n",
              "      <td>Em</td>\n",
              "      <td>Sh</td>\n",
              "      <td>1501</td>\n",
              "      <td>Male</td>\n",
              "      <td>10</td>\n",
              "    </tr>\n",
              "    <tr>\n",
              "      <th>2</th>\n",
              "      <td>8873010</td>\n",
              "      <td>False</td>\n",
              "      <td>4452</td>\n",
              "      <td>35</td>\n",
              "      <td>144</td>\n",
              "      <td>2</td>\n",
              "      <td>37.0</td>\n",
              "      <td>BI</td>\n",
              "      <td>MI</td>\n",
              "      <td>1550</td>\n",
              "      <td>Male</td>\n",
              "      <td>9</td>\n",
              "    </tr>\n",
              "    <tr>\n",
              "      <th>3</th>\n",
              "      <td>9852034</td>\n",
              "      <td>False</td>\n",
              "      <td>5461</td>\n",
              "      <td>40</td>\n",
              "      <td>149</td>\n",
              "      <td>2</td>\n",
              "      <td>37.0</td>\n",
              "      <td>WT</td>\n",
              "      <td>LI</td>\n",
              "      <td>1401</td>\n",
              "      <td>Male</td>\n",
              "      <td>6</td>\n",
              "    </tr>\n",
              "    <tr>\n",
              "      <th>4</th>\n",
              "      <td>9416548</td>\n",
              "      <td>False</td>\n",
              "      <td>5298</td>\n",
              "      <td>26</td>\n",
              "      <td>147</td>\n",
              "      <td>2</td>\n",
              "      <td>37.0</td>\n",
              "      <td>LA</td>\n",
              "      <td>LA</td>\n",
              "      <td>125</td>\n",
              "      <td>Female</td>\n",
              "      <td>12</td>\n",
              "    </tr>\n",
              "    <tr>\n",
              "      <th>...</th>\n",
              "      <td>...</td>\n",
              "      <td>...</td>\n",
              "      <td>...</td>\n",
              "      <td>...</td>\n",
              "      <td>...</td>\n",
              "      <td>...</td>\n",
              "      <td>...</td>\n",
              "      <td>...</td>\n",
              "      <td>...</td>\n",
              "      <td>...</td>\n",
              "      <td>...</td>\n",
              "      <td>...</td>\n",
              "    </tr>\n",
              "    <tr>\n",
              "      <th>99995</th>\n",
              "      <td>10249682</td>\n",
              "      <td>False</td>\n",
              "      <td>5404</td>\n",
              "      <td>65</td>\n",
              "      <td>150</td>\n",
              "      <td>2</td>\n",
              "      <td>37.0</td>\n",
              "      <td>Iy</td>\n",
              "      <td>Rn</td>\n",
              "      <td>4068</td>\n",
              "      <td>Female</td>\n",
              "      <td>1</td>\n",
              "    </tr>\n",
              "    <tr>\n",
              "      <th>99996</th>\n",
              "      <td>8955506</td>\n",
              "      <td>False</td>\n",
              "      <td>5181</td>\n",
              "      <td>37</td>\n",
              "      <td>144</td>\n",
              "      <td>2</td>\n",
              "      <td>37.0</td>\n",
              "      <td>ZA</td>\n",
              "      <td>OE</td>\n",
              "      <td>4450</td>\n",
              "      <td>Female</td>\n",
              "      <td>6</td>\n",
              "    </tr>\n",
              "    <tr>\n",
              "      <th>99997</th>\n",
              "      <td>9299394</td>\n",
              "      <td>False</td>\n",
              "      <td>5077</td>\n",
              "      <td>69</td>\n",
              "      <td>146</td>\n",
              "      <td>2</td>\n",
              "      <td>37.0</td>\n",
              "      <td>Wm</td>\n",
              "      <td>Vr</td>\n",
              "      <td>1759</td>\n",
              "      <td>Male</td>\n",
              "      <td>1</td>\n",
              "    </tr>\n",
              "    <tr>\n",
              "      <th>99998</th>\n",
              "      <td>9549720</td>\n",
              "      <td>False</td>\n",
              "      <td>5028</td>\n",
              "      <td>67</td>\n",
              "      <td>147</td>\n",
              "      <td>2</td>\n",
              "      <td>37.0</td>\n",
              "      <td>Ze</td>\n",
              "      <td>Ze</td>\n",
              "      <td>1475</td>\n",
              "      <td>Male</td>\n",
              "      <td>1</td>\n",
              "    </tr>\n",
              "    <tr>\n",
              "      <th>99999</th>\n",
              "      <td>9702206</td>\n",
              "      <td>False</td>\n",
              "      <td>5464</td>\n",
              "      <td>63</td>\n",
              "      <td>148</td>\n",
              "      <td>2</td>\n",
              "      <td>37.0</td>\n",
              "      <td>EH</td>\n",
              "      <td>MA</td>\n",
              "      <td>1864</td>\n",
              "      <td>Female</td>\n",
              "      <td>15</td>\n",
              "    </tr>\n",
              "  </tbody>\n",
              "</table>\n",
              "<p>100000 rows × 12 columns</p>\n",
              "</div>"
            ],
            "text/plain": [
              "        Call_ID   Sale Agent_ID  Age  ...  Last_Name  Area_Code  Gender Call_Count\n",
              "0       9545434  False     5265   42  ...         Jk       2302    Male          1\n",
              "1       9211206  False     5226   74  ...         Sh       1501    Male         10\n",
              "2       8873010  False     4452   35  ...         MI       1550    Male          9\n",
              "3       9852034  False     5461   40  ...         LI       1401    Male          6\n",
              "4       9416548  False     5298   26  ...         LA        125  Female         12\n",
              "...         ...    ...      ...  ...  ...        ...        ...     ...        ...\n",
              "99995  10249682  False     5404   65  ...         Rn       4068  Female          1\n",
              "99996   8955506  False     5181   37  ...         OE       4450  Female          6\n",
              "99997   9299394  False     5077   69  ...         Vr       1759    Male          1\n",
              "99998   9549720  False     5028   67  ...         Ze       1475    Male          1\n",
              "99999   9702206  False     5464   63  ...         MA       1864  Female         15\n",
              "\n",
              "[100000 rows x 12 columns]"
            ]
          },
          "metadata": {
            "tags": []
          },
          "execution_count": 4
        }
      ]
    },
    {
      "cell_type": "code",
      "metadata": {
        "id": "I0iDF7XGKvya",
        "colab_type": "code",
        "colab": {
          "base_uri": "https://localhost:8080/",
          "height": 340
        },
        "outputId": "8d1708a5-9d4d-4bdf-9554-8b94533e7708"
      },
      "source": [
        "df.info()"
      ],
      "execution_count": null,
      "outputs": [
        {
          "output_type": "stream",
          "text": [
            "<class 'pandas.core.frame.DataFrame'>\n",
            "RangeIndex: 100000 entries, 0 to 99999\n",
            "Data columns (total 12 columns):\n",
            " #   Column      Non-Null Count   Dtype  \n",
            "---  ------      --------------   -----  \n",
            " 0   Call_ID     100000 non-null  int64  \n",
            " 1   Sale        99968 non-null   object \n",
            " 2   Agent_ID    97685 non-null   object \n",
            " 3   Age         100000 non-null  int64  \n",
            " 4   Product_ID  100000 non-null  int64  \n",
            " 5   Timezone    100000 non-null  int64  \n",
            " 6   Phone_code  99972 non-null   float64\n",
            " 7   First_Name  99318 non-null   object \n",
            " 8   Last_Name   99319 non-null   object \n",
            " 9   Area_Code   99540 non-null   object \n",
            " 10  Gender      100000 non-null  object \n",
            " 11  Call_Count  100000 non-null  int64  \n",
            "dtypes: float64(1), int64(5), object(6)\n",
            "memory usage: 9.2+ MB\n"
          ],
          "name": "stdout"
        }
      ]
    },
    {
      "cell_type": "code",
      "metadata": {
        "id": "elPNXSyXKz-a",
        "colab_type": "code",
        "colab": {
          "base_uri": "https://localhost:8080/",
          "height": 297
        },
        "outputId": "a4482377-6296-4212-ba51-da25de54adfd"
      },
      "source": [
        "df.describe()"
      ],
      "execution_count": null,
      "outputs": [
        {
          "output_type": "execute_result",
          "data": {
            "text/html": [
              "<div>\n",
              "<style scoped>\n",
              "    .dataframe tbody tr th:only-of-type {\n",
              "        vertical-align: middle;\n",
              "    }\n",
              "\n",
              "    .dataframe tbody tr th {\n",
              "        vertical-align: top;\n",
              "    }\n",
              "\n",
              "    .dataframe thead th {\n",
              "        text-align: right;\n",
              "    }\n",
              "</style>\n",
              "<table border=\"1\" class=\"dataframe\">\n",
              "  <thead>\n",
              "    <tr style=\"text-align: right;\">\n",
              "      <th></th>\n",
              "      <th>Call_ID</th>\n",
              "      <th>Age</th>\n",
              "      <th>Product_ID</th>\n",
              "      <th>Timezone</th>\n",
              "      <th>Phone_code</th>\n",
              "      <th>Call_Count</th>\n",
              "    </tr>\n",
              "  </thead>\n",
              "  <tbody>\n",
              "    <tr>\n",
              "      <th>count</th>\n",
              "      <td>1.000000e+05</td>\n",
              "      <td>100000.000000</td>\n",
              "      <td>100000.000000</td>\n",
              "      <td>100000.000000</td>\n",
              "      <td>99972.0</td>\n",
              "      <td>100000.00000</td>\n",
              "    </tr>\n",
              "    <tr>\n",
              "      <th>mean</th>\n",
              "      <td>9.562981e+06</td>\n",
              "      <td>52.558530</td>\n",
              "      <td>147.216690</td>\n",
              "      <td>1.999420</td>\n",
              "      <td>37.0</td>\n",
              "      <td>3.26866</td>\n",
              "    </tr>\n",
              "    <tr>\n",
              "      <th>std</th>\n",
              "      <td>4.618927e+05</td>\n",
              "      <td>16.144553</td>\n",
              "      <td>2.182815</td>\n",
              "      <td>0.034054</td>\n",
              "      <td>0.0</td>\n",
              "      <td>2.96882</td>\n",
              "    </tr>\n",
              "    <tr>\n",
              "      <th>min</th>\n",
              "      <td>8.432514e+06</td>\n",
              "      <td>25.000000</td>\n",
              "      <td>142.000000</td>\n",
              "      <td>0.000000</td>\n",
              "      <td>37.0</td>\n",
              "      <td>1.00000</td>\n",
              "    </tr>\n",
              "    <tr>\n",
              "      <th>25%</th>\n",
              "      <td>9.230592e+06</td>\n",
              "      <td>39.000000</td>\n",
              "      <td>146.000000</td>\n",
              "      <td>2.000000</td>\n",
              "      <td>37.0</td>\n",
              "      <td>1.00000</td>\n",
              "    </tr>\n",
              "    <tr>\n",
              "      <th>50%</th>\n",
              "      <td>9.527831e+06</td>\n",
              "      <td>53.000000</td>\n",
              "      <td>147.000000</td>\n",
              "      <td>2.000000</td>\n",
              "      <td>37.0</td>\n",
              "      <td>2.00000</td>\n",
              "    </tr>\n",
              "    <tr>\n",
              "      <th>75%</th>\n",
              "      <td>9.919197e+06</td>\n",
              "      <td>66.000000</td>\n",
              "      <td>149.000000</td>\n",
              "      <td>2.000000</td>\n",
              "      <td>37.0</td>\n",
              "      <td>4.00000</td>\n",
              "    </tr>\n",
              "    <tr>\n",
              "      <th>max</th>\n",
              "      <td>1.047664e+07</td>\n",
              "      <td>80.000000</td>\n",
              "      <td>151.000000</td>\n",
              "      <td>2.000000</td>\n",
              "      <td>37.0</td>\n",
              "      <td>55.00000</td>\n",
              "    </tr>\n",
              "  </tbody>\n",
              "</table>\n",
              "</div>"
            ],
            "text/plain": [
              "            Call_ID            Age  ...  Phone_code    Call_Count\n",
              "count  1.000000e+05  100000.000000  ...     99972.0  100000.00000\n",
              "mean   9.562981e+06      52.558530  ...        37.0       3.26866\n",
              "std    4.618927e+05      16.144553  ...         0.0       2.96882\n",
              "min    8.432514e+06      25.000000  ...        37.0       1.00000\n",
              "25%    9.230592e+06      39.000000  ...        37.0       1.00000\n",
              "50%    9.527831e+06      53.000000  ...        37.0       2.00000\n",
              "75%    9.919197e+06      66.000000  ...        37.0       4.00000\n",
              "max    1.047664e+07      80.000000  ...        37.0      55.00000\n",
              "\n",
              "[8 rows x 6 columns]"
            ]
          },
          "metadata": {
            "tags": []
          },
          "execution_count": 6
        }
      ]
    },
    {
      "cell_type": "code",
      "metadata": {
        "id": "FWVG90RpNhhN",
        "colab_type": "code",
        "colab": {
          "base_uri": "https://localhost:8080/",
          "height": 419
        },
        "outputId": "7431528b-7684-4574-942c-329d57cf79aa"
      },
      "source": [
        "df['full name'] = df['First_Name'] + df['Last_Name']\n",
        "df\n"
      ],
      "execution_count": null,
      "outputs": [
        {
          "output_type": "execute_result",
          "data": {
            "text/html": [
              "<div>\n",
              "<style scoped>\n",
              "    .dataframe tbody tr th:only-of-type {\n",
              "        vertical-align: middle;\n",
              "    }\n",
              "\n",
              "    .dataframe tbody tr th {\n",
              "        vertical-align: top;\n",
              "    }\n",
              "\n",
              "    .dataframe thead th {\n",
              "        text-align: right;\n",
              "    }\n",
              "</style>\n",
              "<table border=\"1\" class=\"dataframe\">\n",
              "  <thead>\n",
              "    <tr style=\"text-align: right;\">\n",
              "      <th></th>\n",
              "      <th>Call_ID</th>\n",
              "      <th>Sale</th>\n",
              "      <th>Agent_ID</th>\n",
              "      <th>Age</th>\n",
              "      <th>Product_ID</th>\n",
              "      <th>Timezone</th>\n",
              "      <th>Phone_code</th>\n",
              "      <th>First_Name</th>\n",
              "      <th>Last_Name</th>\n",
              "      <th>Area_Code</th>\n",
              "      <th>Gender</th>\n",
              "      <th>Call_Count</th>\n",
              "      <th>full name</th>\n",
              "    </tr>\n",
              "  </thead>\n",
              "  <tbody>\n",
              "    <tr>\n",
              "      <th>0</th>\n",
              "      <td>9545434</td>\n",
              "      <td>False</td>\n",
              "      <td>5265</td>\n",
              "      <td>42</td>\n",
              "      <td>147</td>\n",
              "      <td>2</td>\n",
              "      <td>37.0</td>\n",
              "      <td>Jk</td>\n",
              "      <td>Jk</td>\n",
              "      <td>2302</td>\n",
              "      <td>Male</td>\n",
              "      <td>1</td>\n",
              "      <td>JkJk</td>\n",
              "    </tr>\n",
              "    <tr>\n",
              "      <th>1</th>\n",
              "      <td>9211206</td>\n",
              "      <td>False</td>\n",
              "      <td>5226</td>\n",
              "      <td>74</td>\n",
              "      <td>146</td>\n",
              "      <td>2</td>\n",
              "      <td>37.0</td>\n",
              "      <td>Em</td>\n",
              "      <td>Sh</td>\n",
              "      <td>1501</td>\n",
              "      <td>Male</td>\n",
              "      <td>10</td>\n",
              "      <td>EmSh</td>\n",
              "    </tr>\n",
              "    <tr>\n",
              "      <th>2</th>\n",
              "      <td>8873010</td>\n",
              "      <td>False</td>\n",
              "      <td>4452</td>\n",
              "      <td>35</td>\n",
              "      <td>144</td>\n",
              "      <td>2</td>\n",
              "      <td>37.0</td>\n",
              "      <td>BI</td>\n",
              "      <td>MI</td>\n",
              "      <td>1550</td>\n",
              "      <td>Male</td>\n",
              "      <td>9</td>\n",
              "      <td>BIMI</td>\n",
              "    </tr>\n",
              "    <tr>\n",
              "      <th>3</th>\n",
              "      <td>9852034</td>\n",
              "      <td>False</td>\n",
              "      <td>5461</td>\n",
              "      <td>40</td>\n",
              "      <td>149</td>\n",
              "      <td>2</td>\n",
              "      <td>37.0</td>\n",
              "      <td>WT</td>\n",
              "      <td>LI</td>\n",
              "      <td>1401</td>\n",
              "      <td>Male</td>\n",
              "      <td>6</td>\n",
              "      <td>WTLI</td>\n",
              "    </tr>\n",
              "    <tr>\n",
              "      <th>4</th>\n",
              "      <td>9416548</td>\n",
              "      <td>False</td>\n",
              "      <td>5298</td>\n",
              "      <td>26</td>\n",
              "      <td>147</td>\n",
              "      <td>2</td>\n",
              "      <td>37.0</td>\n",
              "      <td>LA</td>\n",
              "      <td>LA</td>\n",
              "      <td>125</td>\n",
              "      <td>Female</td>\n",
              "      <td>12</td>\n",
              "      <td>LALA</td>\n",
              "    </tr>\n",
              "    <tr>\n",
              "      <th>...</th>\n",
              "      <td>...</td>\n",
              "      <td>...</td>\n",
              "      <td>...</td>\n",
              "      <td>...</td>\n",
              "      <td>...</td>\n",
              "      <td>...</td>\n",
              "      <td>...</td>\n",
              "      <td>...</td>\n",
              "      <td>...</td>\n",
              "      <td>...</td>\n",
              "      <td>...</td>\n",
              "      <td>...</td>\n",
              "      <td>...</td>\n",
              "    </tr>\n",
              "    <tr>\n",
              "      <th>99995</th>\n",
              "      <td>10249682</td>\n",
              "      <td>False</td>\n",
              "      <td>5404</td>\n",
              "      <td>65</td>\n",
              "      <td>150</td>\n",
              "      <td>2</td>\n",
              "      <td>37.0</td>\n",
              "      <td>Iy</td>\n",
              "      <td>Rn</td>\n",
              "      <td>4068</td>\n",
              "      <td>Female</td>\n",
              "      <td>1</td>\n",
              "      <td>IyRn</td>\n",
              "    </tr>\n",
              "    <tr>\n",
              "      <th>99996</th>\n",
              "      <td>8955506</td>\n",
              "      <td>False</td>\n",
              "      <td>5181</td>\n",
              "      <td>37</td>\n",
              "      <td>144</td>\n",
              "      <td>2</td>\n",
              "      <td>37.0</td>\n",
              "      <td>ZA</td>\n",
              "      <td>OE</td>\n",
              "      <td>4450</td>\n",
              "      <td>Female</td>\n",
              "      <td>6</td>\n",
              "      <td>ZAOE</td>\n",
              "    </tr>\n",
              "    <tr>\n",
              "      <th>99997</th>\n",
              "      <td>9299394</td>\n",
              "      <td>False</td>\n",
              "      <td>5077</td>\n",
              "      <td>69</td>\n",
              "      <td>146</td>\n",
              "      <td>2</td>\n",
              "      <td>37.0</td>\n",
              "      <td>Wm</td>\n",
              "      <td>Vr</td>\n",
              "      <td>1759</td>\n",
              "      <td>Male</td>\n",
              "      <td>1</td>\n",
              "      <td>WmVr</td>\n",
              "    </tr>\n",
              "    <tr>\n",
              "      <th>99998</th>\n",
              "      <td>9549720</td>\n",
              "      <td>False</td>\n",
              "      <td>5028</td>\n",
              "      <td>67</td>\n",
              "      <td>147</td>\n",
              "      <td>2</td>\n",
              "      <td>37.0</td>\n",
              "      <td>Ze</td>\n",
              "      <td>Ze</td>\n",
              "      <td>1475</td>\n",
              "      <td>Male</td>\n",
              "      <td>1</td>\n",
              "      <td>ZeZe</td>\n",
              "    </tr>\n",
              "    <tr>\n",
              "      <th>99999</th>\n",
              "      <td>9702206</td>\n",
              "      <td>False</td>\n",
              "      <td>5464</td>\n",
              "      <td>63</td>\n",
              "      <td>148</td>\n",
              "      <td>2</td>\n",
              "      <td>37.0</td>\n",
              "      <td>EH</td>\n",
              "      <td>MA</td>\n",
              "      <td>1864</td>\n",
              "      <td>Female</td>\n",
              "      <td>15</td>\n",
              "      <td>EHMA</td>\n",
              "    </tr>\n",
              "  </tbody>\n",
              "</table>\n",
              "<p>100000 rows × 13 columns</p>\n",
              "</div>"
            ],
            "text/plain": [
              "        Call_ID   Sale Agent_ID  Age  ...  Area_Code  Gender  Call_Count full name\n",
              "0       9545434  False     5265   42  ...       2302    Male           1      JkJk\n",
              "1       9211206  False     5226   74  ...       1501    Male          10      EmSh\n",
              "2       8873010  False     4452   35  ...       1550    Male           9      BIMI\n",
              "3       9852034  False     5461   40  ...       1401    Male           6      WTLI\n",
              "4       9416548  False     5298   26  ...        125  Female          12      LALA\n",
              "...         ...    ...      ...  ...  ...        ...     ...         ...       ...\n",
              "99995  10249682  False     5404   65  ...       4068  Female           1      IyRn\n",
              "99996   8955506  False     5181   37  ...       4450  Female           6      ZAOE\n",
              "99997   9299394  False     5077   69  ...       1759    Male           1      WmVr\n",
              "99998   9549720  False     5028   67  ...       1475    Male           1      ZeZe\n",
              "99999   9702206  False     5464   63  ...       1864  Female          15      EHMA\n",
              "\n",
              "[100000 rows x 13 columns]"
            ]
          },
          "metadata": {
            "tags": []
          },
          "execution_count": 13
        }
      ]
    },
    {
      "cell_type": "code",
      "metadata": {
        "id": "xwAcNlNLNkyc",
        "colab_type": "code",
        "colab": {
          "base_uri": "https://localhost:8080/",
          "height": 357
        },
        "outputId": "d711a556-a900-4cc0-9345-4e3529013106"
      },
      "source": [
        "df.info()"
      ],
      "execution_count": null,
      "outputs": [
        {
          "output_type": "stream",
          "text": [
            "<class 'pandas.core.frame.DataFrame'>\n",
            "RangeIndex: 100000 entries, 0 to 99999\n",
            "Data columns (total 13 columns):\n",
            " #   Column      Non-Null Count   Dtype  \n",
            "---  ------      --------------   -----  \n",
            " 0   Call_ID     100000 non-null  int64  \n",
            " 1   Sale        99968 non-null   object \n",
            " 2   Agent_ID    97685 non-null   object \n",
            " 3   Age         100000 non-null  int64  \n",
            " 4   Product_ID  100000 non-null  int64  \n",
            " 5   Timezone    100000 non-null  int64  \n",
            " 6   Phone_code  99972 non-null   float64\n",
            " 7   First_Name  99318 non-null   object \n",
            " 8   Last_Name   99319 non-null   object \n",
            " 9   Area_Code   99540 non-null   object \n",
            " 10  Gender      100000 non-null  object \n",
            " 11  Call_Count  100000 non-null  int64  \n",
            " 12  full name   98857 non-null   object \n",
            "dtypes: float64(1), int64(5), object(7)\n",
            "memory usage: 9.9+ MB\n"
          ],
          "name": "stdout"
        }
      ]
    },
    {
      "cell_type": "code",
      "metadata": {
        "id": "bw30GgOYK6pX",
        "colab_type": "code",
        "colab": {
          "base_uri": "https://localhost:8080/",
          "height": 419
        },
        "outputId": "000212e8-287b-4a53-925a-79f5cad0f776"
      },
      "source": [
        "df1 = df.dropna()\n",
        "df1"
      ],
      "execution_count": null,
      "outputs": [
        {
          "output_type": "execute_result",
          "data": {
            "text/html": [
              "<div>\n",
              "<style scoped>\n",
              "    .dataframe tbody tr th:only-of-type {\n",
              "        vertical-align: middle;\n",
              "    }\n",
              "\n",
              "    .dataframe tbody tr th {\n",
              "        vertical-align: top;\n",
              "    }\n",
              "\n",
              "    .dataframe thead th {\n",
              "        text-align: right;\n",
              "    }\n",
              "</style>\n",
              "<table border=\"1\" class=\"dataframe\">\n",
              "  <thead>\n",
              "    <tr style=\"text-align: right;\">\n",
              "      <th></th>\n",
              "      <th>Call_ID</th>\n",
              "      <th>Sale</th>\n",
              "      <th>Agent_ID</th>\n",
              "      <th>Age</th>\n",
              "      <th>Product_ID</th>\n",
              "      <th>Timezone</th>\n",
              "      <th>Phone_code</th>\n",
              "      <th>First_Name</th>\n",
              "      <th>Last_Name</th>\n",
              "      <th>Area_Code</th>\n",
              "      <th>Gender</th>\n",
              "      <th>Call_Count</th>\n",
              "      <th>full name</th>\n",
              "    </tr>\n",
              "  </thead>\n",
              "  <tbody>\n",
              "    <tr>\n",
              "      <th>0</th>\n",
              "      <td>9545434</td>\n",
              "      <td>False</td>\n",
              "      <td>5265</td>\n",
              "      <td>42</td>\n",
              "      <td>147</td>\n",
              "      <td>2</td>\n",
              "      <td>37.0</td>\n",
              "      <td>Jk</td>\n",
              "      <td>Jk</td>\n",
              "      <td>2302</td>\n",
              "      <td>Male</td>\n",
              "      <td>1</td>\n",
              "      <td>JkJk</td>\n",
              "    </tr>\n",
              "    <tr>\n",
              "      <th>1</th>\n",
              "      <td>9211206</td>\n",
              "      <td>False</td>\n",
              "      <td>5226</td>\n",
              "      <td>74</td>\n",
              "      <td>146</td>\n",
              "      <td>2</td>\n",
              "      <td>37.0</td>\n",
              "      <td>Em</td>\n",
              "      <td>Sh</td>\n",
              "      <td>1501</td>\n",
              "      <td>Male</td>\n",
              "      <td>10</td>\n",
              "      <td>EmSh</td>\n",
              "    </tr>\n",
              "    <tr>\n",
              "      <th>2</th>\n",
              "      <td>8873010</td>\n",
              "      <td>False</td>\n",
              "      <td>4452</td>\n",
              "      <td>35</td>\n",
              "      <td>144</td>\n",
              "      <td>2</td>\n",
              "      <td>37.0</td>\n",
              "      <td>BI</td>\n",
              "      <td>MI</td>\n",
              "      <td>1550</td>\n",
              "      <td>Male</td>\n",
              "      <td>9</td>\n",
              "      <td>BIMI</td>\n",
              "    </tr>\n",
              "    <tr>\n",
              "      <th>3</th>\n",
              "      <td>9852034</td>\n",
              "      <td>False</td>\n",
              "      <td>5461</td>\n",
              "      <td>40</td>\n",
              "      <td>149</td>\n",
              "      <td>2</td>\n",
              "      <td>37.0</td>\n",
              "      <td>WT</td>\n",
              "      <td>LI</td>\n",
              "      <td>1401</td>\n",
              "      <td>Male</td>\n",
              "      <td>6</td>\n",
              "      <td>WTLI</td>\n",
              "    </tr>\n",
              "    <tr>\n",
              "      <th>4</th>\n",
              "      <td>9416548</td>\n",
              "      <td>False</td>\n",
              "      <td>5298</td>\n",
              "      <td>26</td>\n",
              "      <td>147</td>\n",
              "      <td>2</td>\n",
              "      <td>37.0</td>\n",
              "      <td>LA</td>\n",
              "      <td>LA</td>\n",
              "      <td>125</td>\n",
              "      <td>Female</td>\n",
              "      <td>12</td>\n",
              "      <td>LALA</td>\n",
              "    </tr>\n",
              "    <tr>\n",
              "      <th>...</th>\n",
              "      <td>...</td>\n",
              "      <td>...</td>\n",
              "      <td>...</td>\n",
              "      <td>...</td>\n",
              "      <td>...</td>\n",
              "      <td>...</td>\n",
              "      <td>...</td>\n",
              "      <td>...</td>\n",
              "      <td>...</td>\n",
              "      <td>...</td>\n",
              "      <td>...</td>\n",
              "      <td>...</td>\n",
              "      <td>...</td>\n",
              "    </tr>\n",
              "    <tr>\n",
              "      <th>99995</th>\n",
              "      <td>10249682</td>\n",
              "      <td>False</td>\n",
              "      <td>5404</td>\n",
              "      <td>65</td>\n",
              "      <td>150</td>\n",
              "      <td>2</td>\n",
              "      <td>37.0</td>\n",
              "      <td>Iy</td>\n",
              "      <td>Rn</td>\n",
              "      <td>4068</td>\n",
              "      <td>Female</td>\n",
              "      <td>1</td>\n",
              "      <td>IyRn</td>\n",
              "    </tr>\n",
              "    <tr>\n",
              "      <th>99996</th>\n",
              "      <td>8955506</td>\n",
              "      <td>False</td>\n",
              "      <td>5181</td>\n",
              "      <td>37</td>\n",
              "      <td>144</td>\n",
              "      <td>2</td>\n",
              "      <td>37.0</td>\n",
              "      <td>ZA</td>\n",
              "      <td>OE</td>\n",
              "      <td>4450</td>\n",
              "      <td>Female</td>\n",
              "      <td>6</td>\n",
              "      <td>ZAOE</td>\n",
              "    </tr>\n",
              "    <tr>\n",
              "      <th>99997</th>\n",
              "      <td>9299394</td>\n",
              "      <td>False</td>\n",
              "      <td>5077</td>\n",
              "      <td>69</td>\n",
              "      <td>146</td>\n",
              "      <td>2</td>\n",
              "      <td>37.0</td>\n",
              "      <td>Wm</td>\n",
              "      <td>Vr</td>\n",
              "      <td>1759</td>\n",
              "      <td>Male</td>\n",
              "      <td>1</td>\n",
              "      <td>WmVr</td>\n",
              "    </tr>\n",
              "    <tr>\n",
              "      <th>99998</th>\n",
              "      <td>9549720</td>\n",
              "      <td>False</td>\n",
              "      <td>5028</td>\n",
              "      <td>67</td>\n",
              "      <td>147</td>\n",
              "      <td>2</td>\n",
              "      <td>37.0</td>\n",
              "      <td>Ze</td>\n",
              "      <td>Ze</td>\n",
              "      <td>1475</td>\n",
              "      <td>Male</td>\n",
              "      <td>1</td>\n",
              "      <td>ZeZe</td>\n",
              "    </tr>\n",
              "    <tr>\n",
              "      <th>99999</th>\n",
              "      <td>9702206</td>\n",
              "      <td>False</td>\n",
              "      <td>5464</td>\n",
              "      <td>63</td>\n",
              "      <td>148</td>\n",
              "      <td>2</td>\n",
              "      <td>37.0</td>\n",
              "      <td>EH</td>\n",
              "      <td>MA</td>\n",
              "      <td>1864</td>\n",
              "      <td>Female</td>\n",
              "      <td>15</td>\n",
              "      <td>EHMA</td>\n",
              "    </tr>\n",
              "  </tbody>\n",
              "</table>\n",
              "<p>96077 rows × 13 columns</p>\n",
              "</div>"
            ],
            "text/plain": [
              "        Call_ID   Sale Agent_ID  Age  ...  Area_Code  Gender  Call_Count full name\n",
              "0       9545434  False     5265   42  ...       2302    Male           1      JkJk\n",
              "1       9211206  False     5226   74  ...       1501    Male          10      EmSh\n",
              "2       8873010  False     4452   35  ...       1550    Male           9      BIMI\n",
              "3       9852034  False     5461   40  ...       1401    Male           6      WTLI\n",
              "4       9416548  False     5298   26  ...        125  Female          12      LALA\n",
              "...         ...    ...      ...  ...  ...        ...     ...         ...       ...\n",
              "99995  10249682  False     5404   65  ...       4068  Female           1      IyRn\n",
              "99996   8955506  False     5181   37  ...       4450  Female           6      ZAOE\n",
              "99997   9299394  False     5077   69  ...       1759    Male           1      WmVr\n",
              "99998   9549720  False     5028   67  ...       1475    Male           1      ZeZe\n",
              "99999   9702206  False     5464   63  ...       1864  Female          15      EHMA\n",
              "\n",
              "[96077 rows x 13 columns]"
            ]
          },
          "metadata": {
            "tags": []
          },
          "execution_count": 15
        }
      ]
    },
    {
      "cell_type": "code",
      "metadata": {
        "id": "M4VSmBM5LCk5",
        "colab_type": "code",
        "colab": {
          "base_uri": "https://localhost:8080/",
          "height": 357
        },
        "outputId": "aafb3111-6849-4139-e75c-7fe0450885ac"
      },
      "source": [
        "df1.info()"
      ],
      "execution_count": null,
      "outputs": [
        {
          "output_type": "stream",
          "text": [
            "<class 'pandas.core.frame.DataFrame'>\n",
            "Int64Index: 96077 entries, 0 to 99999\n",
            "Data columns (total 13 columns):\n",
            " #   Column      Non-Null Count  Dtype  \n",
            "---  ------      --------------  -----  \n",
            " 0   Call_ID     96077 non-null  int64  \n",
            " 1   Sale        96077 non-null  object \n",
            " 2   Agent_ID    96077 non-null  object \n",
            " 3   Age         96077 non-null  int64  \n",
            " 4   Product_ID  96077 non-null  int64  \n",
            " 5   Timezone    96077 non-null  int64  \n",
            " 6   Phone_code  96077 non-null  float64\n",
            " 7   First_Name  96077 non-null  object \n",
            " 8   Last_Name   96077 non-null  object \n",
            " 9   Area_Code   96077 non-null  object \n",
            " 10  Gender      96077 non-null  object \n",
            " 11  Call_Count  96077 non-null  int64  \n",
            " 12  full name   96077 non-null  object \n",
            "dtypes: float64(1), int64(5), object(7)\n",
            "memory usage: 10.3+ MB\n"
          ],
          "name": "stdout"
        }
      ]
    },
    {
      "cell_type": "code",
      "metadata": {
        "id": "ccHjqcHDMq1z",
        "colab_type": "code",
        "colab": {
          "base_uri": "https://localhost:8080/",
          "height": 419
        },
        "outputId": "7cded8e7-505e-4e4e-be6f-77e84d3898af"
      },
      "source": [
        "true_df = df[df['Sale']==True]\n",
        "true_df\n"
      ],
      "execution_count": null,
      "outputs": [
        {
          "output_type": "execute_result",
          "data": {
            "text/html": [
              "<div>\n",
              "<style scoped>\n",
              "    .dataframe tbody tr th:only-of-type {\n",
              "        vertical-align: middle;\n",
              "    }\n",
              "\n",
              "    .dataframe tbody tr th {\n",
              "        vertical-align: top;\n",
              "    }\n",
              "\n",
              "    .dataframe thead th {\n",
              "        text-align: right;\n",
              "    }\n",
              "</style>\n",
              "<table border=\"1\" class=\"dataframe\">\n",
              "  <thead>\n",
              "    <tr style=\"text-align: right;\">\n",
              "      <th></th>\n",
              "      <th>Call_ID</th>\n",
              "      <th>Sale</th>\n",
              "      <th>Agent_ID</th>\n",
              "      <th>Age</th>\n",
              "      <th>Product_ID</th>\n",
              "      <th>Timezone</th>\n",
              "      <th>Phone_code</th>\n",
              "      <th>First_Name</th>\n",
              "      <th>Last_Name</th>\n",
              "      <th>Area_Code</th>\n",
              "      <th>Gender</th>\n",
              "      <th>Call_Count</th>\n",
              "      <th>full name</th>\n",
              "    </tr>\n",
              "  </thead>\n",
              "  <tbody>\n",
              "    <tr>\n",
              "      <th>9</th>\n",
              "      <td>10216124</td>\n",
              "      <td>True</td>\n",
              "      <td>4912</td>\n",
              "      <td>72</td>\n",
              "      <td>150</td>\n",
              "      <td>2</td>\n",
              "      <td>37.0</td>\n",
              "      <td>TA</td>\n",
              "      <td>MS</td>\n",
              "      <td>1983</td>\n",
              "      <td>Male</td>\n",
              "      <td>1</td>\n",
              "      <td>TAMS</td>\n",
              "    </tr>\n",
              "    <tr>\n",
              "      <th>13</th>\n",
              "      <td>9899362</td>\n",
              "      <td>True</td>\n",
              "      <td>5002</td>\n",
              "      <td>53</td>\n",
              "      <td>149</td>\n",
              "      <td>2</td>\n",
              "      <td>37.0</td>\n",
              "      <td>le</td>\n",
              "      <td>ke</td>\n",
              "      <td>7100</td>\n",
              "      <td>Male</td>\n",
              "      <td>1</td>\n",
              "      <td>leke</td>\n",
              "    </tr>\n",
              "    <tr>\n",
              "      <th>30</th>\n",
              "      <td>9849650</td>\n",
              "      <td>True</td>\n",
              "      <td>5472</td>\n",
              "      <td>58</td>\n",
              "      <td>149</td>\n",
              "      <td>2</td>\n",
              "      <td>37.0</td>\n",
              "      <td>Ma</td>\n",
              "      <td>Mo</td>\n",
              "      <td>718</td>\n",
              "      <td>Male</td>\n",
              "      <td>2</td>\n",
              "      <td>MaMo</td>\n",
              "    </tr>\n",
              "    <tr>\n",
              "      <th>49</th>\n",
              "      <td>9206096</td>\n",
              "      <td>True</td>\n",
              "      <td>4804</td>\n",
              "      <td>64</td>\n",
              "      <td>146</td>\n",
              "      <td>2</td>\n",
              "      <td>37.0</td>\n",
              "      <td>MS</td>\n",
              "      <td>ZE</td>\n",
              "      <td>175</td>\n",
              "      <td>Male</td>\n",
              "      <td>2</td>\n",
              "      <td>MSZE</td>\n",
              "    </tr>\n",
              "    <tr>\n",
              "      <th>57</th>\n",
              "      <td>8764438</td>\n",
              "      <td>True</td>\n",
              "      <td>5181</td>\n",
              "      <td>35</td>\n",
              "      <td>143</td>\n",
              "      <td>2</td>\n",
              "      <td>37.0</td>\n",
              "      <td>Js</td>\n",
              "      <td>Me</td>\n",
              "      <td>6045</td>\n",
              "      <td>Male</td>\n",
              "      <td>9</td>\n",
              "      <td>JsMe</td>\n",
              "    </tr>\n",
              "    <tr>\n",
              "      <th>...</th>\n",
              "      <td>...</td>\n",
              "      <td>...</td>\n",
              "      <td>...</td>\n",
              "      <td>...</td>\n",
              "      <td>...</td>\n",
              "      <td>...</td>\n",
              "      <td>...</td>\n",
              "      <td>...</td>\n",
              "      <td>...</td>\n",
              "      <td>...</td>\n",
              "      <td>...</td>\n",
              "      <td>...</td>\n",
              "      <td>...</td>\n",
              "    </tr>\n",
              "    <tr>\n",
              "      <th>99939</th>\n",
              "      <td>9701974</td>\n",
              "      <td>True</td>\n",
              "      <td>5181</td>\n",
              "      <td>60</td>\n",
              "      <td>148</td>\n",
              "      <td>2</td>\n",
              "      <td>37.0</td>\n",
              "      <td>K</td>\n",
              "      <td>MO</td>\n",
              "      <td>2096</td>\n",
              "      <td>Female</td>\n",
              "      <td>1</td>\n",
              "      <td>K MO</td>\n",
              "    </tr>\n",
              "    <tr>\n",
              "      <th>99940</th>\n",
              "      <td>9170526</td>\n",
              "      <td>True</td>\n",
              "      <td>5303</td>\n",
              "      <td>72</td>\n",
              "      <td>145</td>\n",
              "      <td>2</td>\n",
              "      <td>37.0</td>\n",
              "      <td>Jh</td>\n",
              "      <td>Dz</td>\n",
              "      <td>1811</td>\n",
              "      <td>Male</td>\n",
              "      <td>1</td>\n",
              "      <td>JhDz</td>\n",
              "    </tr>\n",
              "    <tr>\n",
              "      <th>99944</th>\n",
              "      <td>9001760</td>\n",
              "      <td>True</td>\n",
              "      <td>5220</td>\n",
              "      <td>28</td>\n",
              "      <td>145</td>\n",
              "      <td>2</td>\n",
              "      <td>37.0</td>\n",
              "      <td>Dy</td>\n",
              "      <td>St</td>\n",
              "      <td>3486</td>\n",
              "      <td>Female</td>\n",
              "      <td>4</td>\n",
              "      <td>DySt</td>\n",
              "    </tr>\n",
              "    <tr>\n",
              "      <th>99950</th>\n",
              "      <td>9115088</td>\n",
              "      <td>True</td>\n",
              "      <td>5293</td>\n",
              "      <td>37</td>\n",
              "      <td>145</td>\n",
              "      <td>2</td>\n",
              "      <td>37.0</td>\n",
              "      <td>Pa</td>\n",
              "      <td>Ta</td>\n",
              "      <td>407</td>\n",
              "      <td>Female</td>\n",
              "      <td>3</td>\n",
              "      <td>PaTa</td>\n",
              "    </tr>\n",
              "    <tr>\n",
              "      <th>99958</th>\n",
              "      <td>9130508</td>\n",
              "      <td>True</td>\n",
              "      <td>4867</td>\n",
              "      <td>57</td>\n",
              "      <td>145</td>\n",
              "      <td>2</td>\n",
              "      <td>37.0</td>\n",
              "      <td>SE</td>\n",
              "      <td>ZU</td>\n",
              "      <td>157</td>\n",
              "      <td>Female</td>\n",
              "      <td>4</td>\n",
              "      <td>SEZU</td>\n",
              "    </tr>\n",
              "  </tbody>\n",
              "</table>\n",
              "<p>8720 rows × 13 columns</p>\n",
              "</div>"
            ],
            "text/plain": [
              "        Call_ID  Sale Agent_ID  Age  ...  Area_Code  Gender  Call_Count full name\n",
              "9      10216124  True     4912   72  ...       1983    Male           1      TAMS\n",
              "13      9899362  True     5002   53  ...       7100    Male           1      leke\n",
              "30      9849650  True     5472   58  ...        718    Male           2      MaMo\n",
              "49      9206096  True     4804   64  ...        175    Male           2      MSZE\n",
              "57      8764438  True     5181   35  ...       6045    Male           9      JsMe\n",
              "...         ...   ...      ...  ...  ...        ...     ...         ...       ...\n",
              "99939   9701974  True     5181   60  ...       2096  Female           1      K MO\n",
              "99940   9170526  True     5303   72  ...       1811    Male           1      JhDz\n",
              "99944   9001760  True     5220   28  ...       3486  Female           4      DySt\n",
              "99950   9115088  True     5293   37  ...        407  Female           3      PaTa\n",
              "99958   9130508  True     4867   57  ...        157  Female           4      SEZU\n",
              "\n",
              "[8720 rows x 13 columns]"
            ]
          },
          "metadata": {
            "tags": []
          },
          "execution_count": 17
        }
      ]
    },
    {
      "cell_type": "code",
      "metadata": {
        "id": "BY-QZcYINz0u",
        "colab_type": "code",
        "colab": {
          "base_uri": "https://localhost:8080/",
          "height": 357
        },
        "outputId": "7d41c4d9-1bb5-4087-fe23-44f04cbb5701"
      },
      "source": [
        "true_df.info()"
      ],
      "execution_count": null,
      "outputs": [
        {
          "output_type": "stream",
          "text": [
            "<class 'pandas.core.frame.DataFrame'>\n",
            "Int64Index: 8720 entries, 9 to 99958\n",
            "Data columns (total 13 columns):\n",
            " #   Column      Non-Null Count  Dtype  \n",
            "---  ------      --------------  -----  \n",
            " 0   Call_ID     8720 non-null   int64  \n",
            " 1   Sale        8720 non-null   object \n",
            " 2   Agent_ID    8606 non-null   object \n",
            " 3   Age         8720 non-null   int64  \n",
            " 4   Product_ID  8720 non-null   int64  \n",
            " 5   Timezone    8720 non-null   int64  \n",
            " 6   Phone_code  8706 non-null   float64\n",
            " 7   First_Name  8637 non-null   object \n",
            " 8   Last_Name   8626 non-null   object \n",
            " 9   Area_Code   8667 non-null   object \n",
            " 10  Gender      8720 non-null   object \n",
            " 11  Call_Count  8720 non-null   int64  \n",
            " 12  full name   8563 non-null   object \n",
            "dtypes: float64(1), int64(5), object(7)\n",
            "memory usage: 953.8+ KB\n"
          ],
          "name": "stdout"
        }
      ]
    },
    {
      "cell_type": "code",
      "metadata": {
        "id": "rwrWfF35OCWl",
        "colab_type": "code",
        "colab": {
          "base_uri": "https://localhost:8080/",
          "height": 34
        },
        "outputId": "3dfe09fa-d485-4913-c08f-404a639d2aa4"
      },
      "source": [
        "df['Call_ID'].unique()"
      ],
      "execution_count": null,
      "outputs": [
        {
          "output_type": "execute_result",
          "data": {
            "text/plain": [
              "array([9545434, 9211206, 8873010, ..., 9299394, 9549720, 9702206])"
            ]
          },
          "metadata": {
            "tags": []
          },
          "execution_count": 19
        }
      ]
    },
    {
      "cell_type": "code",
      "metadata": {
        "id": "q2SiJOLIOLJw",
        "colab_type": "code",
        "colab": {
          "base_uri": "https://localhost:8080/",
          "height": 34
        },
        "outputId": "f15d7210-b0a5-4f7b-ee98-1ba405aee1a5"
      },
      "source": [
        "df['Call_ID'].nunique()"
      ],
      "execution_count": null,
      "outputs": [
        {
          "output_type": "execute_result",
          "data": {
            "text/plain": [
              "100000"
            ]
          },
          "metadata": {
            "tags": []
          },
          "execution_count": 20
        }
      ]
    },
    {
      "cell_type": "code",
      "metadata": {
        "id": "MaFcohL7OTIS",
        "colab_type": "code",
        "colab": {
          "base_uri": "https://localhost:8080/",
          "height": 34
        },
        "outputId": "11023e12-8e2a-492a-cfad-479125329233"
      },
      "source": [
        "true_df['Call_ID'].unique()"
      ],
      "execution_count": null,
      "outputs": [
        {
          "output_type": "execute_result",
          "data": {
            "text/plain": [
              "array([10216124,  9899362,  9849650, ...,  9001760,  9115088,  9130508])"
            ]
          },
          "metadata": {
            "tags": []
          },
          "execution_count": 34
        }
      ]
    },
    {
      "cell_type": "code",
      "metadata": {
        "id": "brpbWqlXOYgY",
        "colab_type": "code",
        "colab": {
          "base_uri": "https://localhost:8080/",
          "height": 34
        },
        "outputId": "b648339c-351c-4e1b-ed4c-0edc8c02c222"
      },
      "source": [
        "true_df['Call_ID'].nunique()"
      ],
      "execution_count": null,
      "outputs": [
        {
          "output_type": "execute_result",
          "data": {
            "text/plain": [
              "8720"
            ]
          },
          "metadata": {
            "tags": []
          },
          "execution_count": 35
        }
      ]
    },
    {
      "cell_type": "code",
      "metadata": {
        "id": "LIDv-NzmOdlq",
        "colab_type": "code",
        "colab": {
          "base_uri": "https://localhost:8080/",
          "height": 578
        },
        "outputId": "063ac12f-2af6-43ef-d3e7-e94f2f0aad1e"
      },
      "source": [
        "df['Agent_ID'].unique()"
      ],
      "execution_count": null,
      "outputs": [
        {
          "output_type": "execute_result",
          "data": {
            "text/plain": [
              "array(['5265', '5226', '4452', '5461', '5298', '5139', '4828', '5292',\n",
              "       '5044', '4912', '5230', '5002', '5053', '5312', '5214', '4926',\n",
              "       '5425', '5077', '5357', '4722', '5076', '4994', '5051', '5472',\n",
              "       '5296', '5207', '5386', '5209', '5208', '4866', nan, '5297',\n",
              "       '4995', '5313', '4958', '5073', '5028', '4804', '5341', '4876',\n",
              "       '5382', '5405', '5146', '5181', '4702', '5272', '4894', '5065',\n",
              "       '5403', '5459', '5424', '4971', '4677', '4748', '4899', '5266',\n",
              "       '5035', '5460', '4968', '4865', '5252', '5399', '5061', '4706',\n",
              "       '4955', '5220', '4956', '5216', '5032', '5406', '5224', '5462',\n",
              "       '4121', '5271', '5407', '5206', '5001', '5005', '5287', '5396',\n",
              "       '5464', '5294', '5052', '5423', '5421', '4827', '4483', '4709',\n",
              "       '5384', '5416', '5089', '5429', '5428', '5245', '5401', '4970',\n",
              "       '5366', '5381', '5367', '5302', '5368', '5106', '5495', '5393',\n",
              "       '5062', '5143', '5055', '5268', '5042', '5210', '4867', '5286',\n",
              "       '5470', '5310', '4888', '5218', '5467', '5404', '5455', '5471',\n",
              "       '4734', '5342', '5205', '5267', '5221', '5327', '5398', '4539',\n",
              "       '5417', '5420', '5466', '5374', '5441', '4893', '5400', '5299',\n",
              "       '5150', '5114', '5246', '5088', '5397', '5295', '5426', '5219',\n",
              "       'QUEUE5065', '5457', '5358', '4959', '5356', '5270', '5264',\n",
              "       '5515', '5369', '5275', '5365', '5064', '5273', '5254', '5293',\n",
              "       '4966', 'QUEUE5404', '5349', '5319', '5383', '5153', '5456',\n",
              "       '5303', '5306', '5458', '4829', '5427', '5500', 'QUEUE5457',\n",
              "       '5364', '5473', '5377', '5503', 'QUEUE5028', '5350', '4717',\n",
              "       'QUEUE5341', '4425', '5347', 'QUEUE5002', '5152', '5419', '5415',\n",
              "       '5380', '5274', '5348', '5155', '5430', '5215', '5203', '5320',\n",
              "       '5204', '5225', '5351', '5502', '5354', 'QUEUE5456', '5217',\n",
              "       '5370', '5373', '5340', '5494', '5385', '5179', '5463', '5234',\n",
              "       '5322', '5518', '5211', 'QUEUE4702', 'QUEUE4748', '5256', '5344',\n",
              "       '4992', '5516', '5321', 'QUEUE5181', 'QUEUE4968', '5355', '5376',\n",
              "       'QUEUE4912', '5519', '5517', 'QUEUE5459', 'QUEUE5381', '4219',\n",
              "       '5394', '5343', 'QUEUE4804', '5269', '5501', '5123', 'QUEUE4971',\n",
              "       '4304', '5063', 'QUEUE5405', '5390', 'QUEUE5472', '4033',\n",
              "       'QUEUE5386'], dtype=object)"
            ]
          },
          "metadata": {
            "tags": []
          },
          "execution_count": 23
        }
      ]
    },
    {
      "cell_type": "code",
      "metadata": {
        "id": "klSDYkBCOiYR",
        "colab_type": "code",
        "colab": {
          "base_uri": "https://localhost:8080/",
          "height": 34
        },
        "outputId": "97c82120-0699-43ad-9a03-eb4aa257718e"
      },
      "source": [
        "df['Agent_ID'].nunique()"
      ],
      "execution_count": null,
      "outputs": [
        {
          "output_type": "execute_result",
          "data": {
            "text/plain": [
              "243"
            ]
          },
          "metadata": {
            "tags": []
          },
          "execution_count": 24
        }
      ]
    },
    {
      "cell_type": "code",
      "metadata": {
        "id": "De5zxvj0QwF1",
        "colab_type": "code",
        "colab": {
          "base_uri": "https://localhost:8080/",
          "height": 34
        },
        "outputId": "fe49db12-578f-49aa-e9e6-22dd4ea5883e"
      },
      "source": [
        "true_df['Agent_ID'].nunique()"
      ],
      "execution_count": null,
      "outputs": [
        {
          "output_type": "execute_result",
          "data": {
            "text/plain": [
              "218"
            ]
          },
          "metadata": {
            "tags": []
          },
          "execution_count": 37
        }
      ]
    },
    {
      "cell_type": "code",
      "metadata": {
        "id": "tgtN4BI00mAH",
        "colab_type": "code",
        "colab": {
          "base_uri": "https://localhost:8080/",
          "height": 289
        },
        "outputId": "7945f518-27d8-475d-8f40-44ee00969ce8"
      },
      "source": [
        "agent = true_df['Agent_ID'].value_counts()\n",
        "agent.head(15)\n"
      ],
      "execution_count": 81,
      "outputs": [
        {
          "output_type": "execute_result",
          "data": {
            "text/plain": [
              "5001    209\n",
              "4912    196\n",
              "4452    168\n",
              "4955    168\n",
              "4876    163\n",
              "4804    161\n",
              "4926    158\n",
              "4722    156\n",
              "5088    152\n",
              "4748    152\n",
              "4899    151\n",
              "5146    150\n",
              "4121    149\n",
              "4702    148\n",
              "4828    148\n",
              "Name: Agent_ID, dtype: int64"
            ]
          },
          "metadata": {
            "tags": []
          },
          "execution_count": 81
        }
      ]
    },
    {
      "cell_type": "code",
      "metadata": {
        "id": "dUB7fpj_Omed",
        "colab_type": "code",
        "colab": {
          "base_uri": "https://localhost:8080/",
          "height": 85
        },
        "outputId": "44bde573-2d18-42f0-9645-d7c6aef4dafd"
      },
      "source": [
        "df['Age'].unique()"
      ],
      "execution_count": null,
      "outputs": [
        {
          "output_type": "execute_result",
          "data": {
            "text/plain": [
              "array([42, 74, 35, 40, 26, 33, 70, 41, 72, 34, 73, 30, 53, 67, 79, 63, 39,\n",
              "       25, 49, 69, 55, 56, 59, 58, 43, 68, 45, 62, 29, 47, 46, 65, 38, 54,\n",
              "       27, 64, 71, 57, 50, 48, 78, 60, 32, 31, 66, 36, 76, 77, 28, 75, 61,\n",
              "       51, 80, 37, 44, 52])"
            ]
          },
          "metadata": {
            "tags": []
          },
          "execution_count": 25
        }
      ]
    },
    {
      "cell_type": "code",
      "metadata": {
        "id": "o9PGIwjvO0Lr",
        "colab_type": "code",
        "colab": {
          "base_uri": "https://localhost:8080/",
          "height": 34
        },
        "outputId": "a1a0fed3-bba8-41a0-c284-a1f15794f10d"
      },
      "source": [
        "df['Age'].nunique()"
      ],
      "execution_count": null,
      "outputs": [
        {
          "output_type": "execute_result",
          "data": {
            "text/plain": [
              "56"
            ]
          },
          "metadata": {
            "tags": []
          },
          "execution_count": 26
        }
      ]
    },
    {
      "cell_type": "code",
      "metadata": {
        "id": "hvI05jBvO9rO",
        "colab_type": "code",
        "colab": {
          "base_uri": "https://localhost:8080/",
          "height": 34
        },
        "outputId": "091422a2-628c-4bd3-d186-b3ed9965a2c8"
      },
      "source": [
        "df['Product_ID'].unique()"
      ],
      "execution_count": null,
      "outputs": [
        {
          "output_type": "execute_result",
          "data": {
            "text/plain": [
              "array([147, 146, 144, 149, 150, 151, 145, 143, 148, 142])"
            ]
          },
          "metadata": {
            "tags": []
          },
          "execution_count": 27
        }
      ]
    },
    {
      "cell_type": "code",
      "metadata": {
        "id": "bJYKVCDZPDT9",
        "colab_type": "code",
        "colab": {
          "base_uri": "https://localhost:8080/",
          "height": 34
        },
        "outputId": "f1af0176-22c4-40f0-f028-681f24551524"
      },
      "source": [
        "df['Product_ID'].nunique()"
      ],
      "execution_count": null,
      "outputs": [
        {
          "output_type": "execute_result",
          "data": {
            "text/plain": [
              "10"
            ]
          },
          "metadata": {
            "tags": []
          },
          "execution_count": 29
        }
      ]
    },
    {
      "cell_type": "code",
      "metadata": {
        "id": "jsLeiSY7Q6C8",
        "colab_type": "code",
        "colab": {
          "base_uri": "https://localhost:8080/",
          "height": 34
        },
        "outputId": "09dad1b6-eb64-4c3a-a080-1655be8f06d4"
      },
      "source": [
        "true_df['Product_ID'].nunique()"
      ],
      "execution_count": null,
      "outputs": [
        {
          "output_type": "execute_result",
          "data": {
            "text/plain": [
              "10"
            ]
          },
          "metadata": {
            "tags": []
          },
          "execution_count": 38
        }
      ]
    },
    {
      "cell_type": "code",
      "metadata": {
        "id": "2XXRcnBqPMMt",
        "colab_type": "code",
        "colab": {
          "base_uri": "https://localhost:8080/",
          "height": 34
        },
        "outputId": "9d933d43-9f8e-46c2-878d-2982753576d8"
      },
      "source": [
        "df['Area_Code'].unique()"
      ],
      "execution_count": null,
      "outputs": [
        {
          "output_type": "execute_result",
          "data": {
            "text/plain": [
              "array(['2302', '1501', '1550', ..., '5421', '4013', '3486'], dtype=object)"
            ]
          },
          "metadata": {
            "tags": []
          },
          "execution_count": 30
        }
      ]
    },
    {
      "cell_type": "code",
      "metadata": {
        "id": "yKLxNHxFPRw4",
        "colab_type": "code",
        "colab": {
          "base_uri": "https://localhost:8080/",
          "height": 34
        },
        "outputId": "960424ff-b7b8-4983-9572-4a0eca9ea548"
      },
      "source": [
        "df['Area_Code'].nunique()"
      ],
      "execution_count": null,
      "outputs": [
        {
          "output_type": "execute_result",
          "data": {
            "text/plain": [
              "3309"
            ]
          },
          "metadata": {
            "tags": []
          },
          "execution_count": 31
        }
      ]
    },
    {
      "cell_type": "code",
      "metadata": {
        "id": "LS947U_PQ_YI",
        "colab_type": "code",
        "colab": {
          "base_uri": "https://localhost:8080/",
          "height": 34
        },
        "outputId": "372b8ce8-2859-408c-a722-2c914666f6e7"
      },
      "source": [
        "true_df['Area_Code'].nunique()"
      ],
      "execution_count": null,
      "outputs": [
        {
          "output_type": "execute_result",
          "data": {
            "text/plain": [
              "1366"
            ]
          },
          "metadata": {
            "tags": []
          },
          "execution_count": 39
        }
      ]
    },
    {
      "cell_type": "code",
      "metadata": {
        "id": "94dO2qGU7v0r",
        "colab_type": "code",
        "colab": {
          "base_uri": "https://localhost:8080/",
          "height": 289
        },
        "outputId": "904036bc-eec4-440f-f38e-5efabfe2af28"
      },
      "source": [
        "Area_wise = true_df['Area_Code'].value_counts()\n",
        "Area_wise.head(15)\n"
      ],
      "execution_count": 88,
      "outputs": [
        {
          "output_type": "execute_result",
          "data": {
            "text/plain": [
              "4001    123\n",
              "3201    119\n",
              "4092    118\n",
              "4068    111\n",
              "1632    110\n",
              "152      99\n",
              "3610     99\n",
              "7785     90\n",
              "7441     86\n",
              "4066     75\n",
              "157      75\n",
              "122      74\n",
              "4091     73\n",
              "2090     72\n",
              "1818     71\n",
              "Name: Area_Code, dtype: int64"
            ]
          },
          "metadata": {
            "tags": []
          },
          "execution_count": 88
        }
      ]
    },
    {
      "cell_type": "code",
      "metadata": {
        "id": "YxZSo2AMPYgb",
        "colab_type": "code",
        "colab": {
          "base_uri": "https://localhost:8080/",
          "height": 34
        },
        "outputId": "9fc92725-bc11-4845-9e11-a847665b8731"
      },
      "source": [
        "df['full name'].unique()"
      ],
      "execution_count": null,
      "outputs": [
        {
          "output_type": "execute_result",
          "data": {
            "text/plain": [
              "array(['JkJk', 'EmSh', 'BIMI', ..., 'NoLr', 'IyRn', 'ZAOE'], dtype=object)"
            ]
          },
          "metadata": {
            "tags": []
          },
          "execution_count": 32
        }
      ]
    },
    {
      "cell_type": "code",
      "metadata": {
        "id": "IqluMHYJPgyl",
        "colab_type": "code",
        "colab": {
          "base_uri": "https://localhost:8080/",
          "height": 34
        },
        "outputId": "9714514e-d545-46b6-aae2-b519a73a84f0"
      },
      "source": [
        "df['full name'].nunique()"
      ],
      "execution_count": null,
      "outputs": [
        {
          "output_type": "execute_result",
          "data": {
            "text/plain": [
              "48485"
            ]
          },
          "metadata": {
            "tags": []
          },
          "execution_count": 33
        }
      ]
    },
    {
      "cell_type": "code",
      "metadata": {
        "id": "SSzCbKY6TXCd",
        "colab_type": "code",
        "colab": {
          "base_uri": "https://localhost:8080/",
          "height": 34
        },
        "outputId": "853917f9-69e5-4c3e-c0fe-467c2ae80754"
      },
      "source": [
        "true_df['full name'].nunique()"
      ],
      "execution_count": null,
      "outputs": [
        {
          "output_type": "execute_result",
          "data": {
            "text/plain": [
              "6532"
            ]
          },
          "metadata": {
            "tags": []
          },
          "execution_count": 40
        }
      ]
    },
    {
      "cell_type": "code",
      "metadata": {
        "id": "7PkgoUlTTeig",
        "colab_type": "code",
        "colab": {
          "base_uri": "https://localhost:8080/",
          "height": 289
        },
        "outputId": "42f4cb4f-cbc0-4772-d61d-4e743cf8eafc"
      },
      "source": [
        "head_count = true_df['full name'].value_counts()\n",
        "head_count.head(15)"
      ],
      "execution_count": 75,
      "outputs": [
        {
          "output_type": "execute_result",
          "data": {
            "text/plain": [
              "NLNL    185\n",
              "MaMa     39\n",
              "MAMA     34\n",
              "MiMi     27\n",
              "MEME     22\n",
              "MeMe     20\n",
              "NaNa     20\n",
              "MiMa     17\n",
              "NoMa     17\n",
              "MIMA     17\n",
              "SaSa     16\n",
              "SEMA     14\n",
              "NaMa     14\n",
              "SnSn     14\n",
              "SeSe     14\n",
              "Name: full name, dtype: int64"
            ]
          },
          "metadata": {
            "tags": []
          },
          "execution_count": 75
        }
      ]
    },
    {
      "cell_type": "code",
      "metadata": {
        "id": "BE_gSd_dlg5K",
        "colab_type": "code",
        "colab": {
          "base_uri": "https://localhost:8080/",
          "height": 312
        },
        "outputId": "5d17d401-6f21-4a36-9bba-152583ecd85c"
      },
      "source": [
        "sns.countplot(x='Sale' ,data=df ).set_title('Overall')"
      ],
      "execution_count": 69,
      "outputs": [
        {
          "output_type": "execute_result",
          "data": {
            "text/plain": [
              "Text(0.5, 1.0, 'Overall')"
            ]
          },
          "metadata": {
            "tags": []
          },
          "execution_count": 69
        },
        {
          "output_type": "display_data",
          "data": {
            "image/png": "[encoded data removed]",
            "text/plain": [
              "<Figure size 432x288 with 1 Axes>"
            ]
          },
          "metadata": {
            "tags": [],
            "needs_background": "light"
          }
        }
      ]
    },
    {
      "cell_type": "code",
      "metadata": {
        "id": "M7ZmjvcDo_Yb",
        "colab_type": "code",
        "colab": {
          "base_uri": "https://localhost:8080/",
          "height": 313
        },
        "outputId": "c8dd9d78-87c0-4abd-8299-08b95e231bcb"
      },
      "source": [
        "sns.countplot(x='Product_ID' ,data=df ).set_title('Overall')"
      ],
      "execution_count": 57,
      "outputs": [
        {
          "output_type": "execute_result",
          "data": {
            "text/plain": [
              "Text(0.5, 1.0, 'Overall')"
            ]
          },
          "metadata": {
            "tags": []
          },
          "execution_count": 57
        },
        {
          "output_type": "display_data",
          "data": {
            "image/png": "[encoded data removed]",
            "text/plain": [
              "<Figure size 432x288 with 1 Axes>"
            ]
          },
          "metadata": {
            "tags": [],
            "needs_background": "light"
          }
        }
      ]
    },
    {
      "cell_type": "code",
      "metadata": {
        "id": "ZYE1p6eqp5Fl",
        "colab_type": "code",
        "colab": {
          "base_uri": "https://localhost:8080/",
          "height": 313
        },
        "outputId": "37f45a9b-fea7-4515-c7f8-c5fba825370d"
      },
      "source": [
        "sns.countplot(x='Product_ID' ,data=true_df ).set_title('True Sales Data')"
      ],
      "execution_count": 70,
      "outputs": [
        {
          "output_type": "execute_result",
          "data": {
            "text/plain": [
              "Text(0.5, 1.0, 'True Sales Data')"
            ]
          },
          "metadata": {
            "tags": []
          },
          "execution_count": 70
        },
        {
          "output_type": "display_data",
          "data": {
            "image/png": "[encoded data removed]",
            "text/plain": [
              "<Figure size 432x288 with 1 Axes>"
            ]
          },
          "metadata": {
            "tags": [],
            "needs_background": "light"
          }
        }
      ]
    },
    {
      "cell_type": "code",
      "metadata": {
        "id": "amo2pu2IqBMX",
        "colab_type": "code",
        "colab": {
          "base_uri": "https://localhost:8080/",
          "height": 312
        },
        "outputId": "0c004bec-e94d-409b-e9ef-5e3397d85376"
      },
      "source": [
        "sns.countplot(x='Gender' ,data=df ).set_title('Overall')"
      ],
      "execution_count": 59,
      "outputs": [
        {
          "output_type": "execute_result",
          "data": {
            "text/plain": [
              "Text(0.5, 1.0, 'Overall')"
            ]
          },
          "metadata": {
            "tags": []
          },
          "execution_count": 59
        },
        {
          "output_type": "display_data",
          "data": {
            "image/png": "[encoded data removed]",
            "text/plain": [
              "<Figure size 432x288 with 1 Axes>"
            ]
          },
          "metadata": {
            "tags": [],
            "needs_background": "light"
          }
        }
      ]
    },
    {
      "cell_type": "code",
      "metadata": {
        "id": "1EF1MXACqLUo",
        "colab_type": "code",
        "colab": {
          "base_uri": "https://localhost:8080/",
          "height": 312
        },
        "outputId": "bb81ed33-0295-4cb5-caae-3e81d4d7cc51"
      },
      "source": [
        "sns.countplot(x='Gender' ,data=true_df ).set_title('True Sales Data')"
      ],
      "execution_count": 67,
      "outputs": [
        {
          "output_type": "execute_result",
          "data": {
            "text/plain": [
              "Text(0.5, 1.0, 'True Sales Data')"
            ]
          },
          "metadata": {
            "tags": []
          },
          "execution_count": 67
        },
        {
          "output_type": "display_data",
          "data": {
            "image/png": "[encoded data removed]",
            "text/plain": [
              "<Figure size 432x288 with 1 Axes>"
            ]
          },
          "metadata": {
            "tags": [],
            "needs_background": "light"
          }
        }
      ]
    },
    {
      "cell_type": "code",
      "metadata": {
        "id": "pbalCt6jqWHM",
        "colab_type": "code",
        "colab": {
          "base_uri": "https://localhost:8080/",
          "height": 295
        },
        "outputId": "54ecf5b1-fc22-47dc-bb0a-7ebb10aa0f41"
      },
      "source": [
        "plt.hist(df['Age'] , bins =[0,10,20,30,40,50,60,70,80,90,100])\n",
        "plt.title('Overall')\n",
        "plt.xlabel('Age')\n",
        "plt.show()"
      ],
      "execution_count": 73,
      "outputs": [
        {
          "output_type": "display_data",
          "data": {
            "image/png": "[encoded data removed]",
            "text/plain": [
              "<Figure size 432x288 with 1 Axes>"
            ]
          },
          "metadata": {
            "tags": [],
            "needs_background": "light"
          }
        }
      ]
    },
    {
      "cell_type": "code",
      "metadata": {
        "id": "tNGfUX9vqnJ5",
        "colab_type": "code",
        "colab": {
          "base_uri": "https://localhost:8080/",
          "height": 295
        },
        "outputId": "f1b31ea6-ce3f-42cb-f1ed-1f026ee7e6b3"
      },
      "source": [
        "plt.hist(true_df['Age'] , bins =[0,10,20,30,40,50,60,70,80,90,100])\n",
        "plt.title('True Sales Data')\n",
        "plt.xlabel('Age')\n",
        "\n",
        "plt.show()"
      ],
      "execution_count": 74,
      "outputs": [
        {
          "output_type": "display_data",
          "data": {
            "image/png": "[encoded data removed]",
            "text/plain": [
              "<Figure size 432x288 with 1 Axes>"
            ]
          },
          "metadata": {
            "tags": [],
            "needs_background": "light"
          }
        }
      ]
    },
    {
      "cell_type": "code",
      "metadata": {
        "id": "iYPK_04HqzBQ",
        "colab_type": "code",
        "colab": {
          "base_uri": "https://localhost:8080/",
          "height": 313
        },
        "outputId": "ff5ed9e7-210d-4953-bad8-7e610124dc27"
      },
      "source": [
        "sns.countplot(x='Call_Count' ,data=df ).set_title('overall')\n"
      ],
      "execution_count": 64,
      "outputs": [
        {
          "output_type": "execute_result",
          "data": {
            "text/plain": [
              "Text(0.5, 1.0, 'overall')"
            ]
          },
          "metadata": {
            "tags": []
          },
          "execution_count": 64
        },
        {
          "output_type": "display_data",
          "data": {
            "image/png": "[encoded data removed]",
            "text/plain": [
              "<Figure size 432x288 with 1 Axes>"
            ]
          },
          "metadata": {
            "tags": [],
            "needs_background": "light"
          }
        }
      ]
    },
    {
      "cell_type": "code",
      "metadata": {
        "id": "rY9OmoRNq-WW",
        "colab_type": "code",
        "colab": {
          "base_uri": "https://localhost:8080/",
          "height": 313
        },
        "outputId": "bc9de2e8-13a9-4ab0-ff05-724b3a976b96"
      },
      "source": [
        "sns.countplot(x='Call_Count' ,data=true_df ).set_title('True Sales data')\n"
      ],
      "execution_count": 65,
      "outputs": [
        {
          "output_type": "execute_result",
          "data": {
            "text/plain": [
              "Text(0.5, 1.0, 'True Sales data')"
            ]
          },
          "metadata": {
            "tags": []
          },
          "execution_count": 65
        },
        {
          "output_type": "display_data",
          "data": {
            "image/png": "[encoded data removed]",
            "text/plain": [
              "<Figure size 432x288 with 1 Axes>"
            ]
          },
          "metadata": {
            "tags": [],
            "needs_background": "light"
          }
        }
      ]
    }
  ]
}